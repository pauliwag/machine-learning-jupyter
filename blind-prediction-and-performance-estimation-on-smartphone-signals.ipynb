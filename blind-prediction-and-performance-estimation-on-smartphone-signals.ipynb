{
  "nbformat": 4,
  "nbformat_minor": 0,
  "metadata": {
    "colab": {
      "provenance": []
    },
    "kernelspec": {
      "name": "python3",
      "display_name": "Python 3"
    },
    "language_info": {
      "name": "python"
    },
    "gpuClass": "standard",
    "accelerator": "GPU"
  },
  "cells": [
    {
      "cell_type": "markdown",
      "source": [
        "# Blind Prediction and Performance Estimation on Smartphone Sensor Signals\n",
        "**Author: Paul Roode**\n",
        "\n",
        "**_NOTE: The computation time of this Jupyter Notebook is ~1 hour on a Google Colab GPU accelerator. Most of this time is allocated to fitting grid and randomized search instances on training data (especially for optimizing an XGBoost model) and assessing ensemble classifier performance via cross-validation._**"
      ],
      "metadata": {
        "id": "gnuXg4vLCNaI"
      }
    },
    {
      "cell_type": "markdown",
      "source": [
        "## Objectives\n",
        "\n",
        "1. Optimize and combine multiple different ML models into an ensemble that maximizes blind prediction accuracy and precision on unlabeled smartphone sensor signal data.\n",
        "\n",
        "2. Compute ensemble KPIs via cross-validation, a confusion matrix, and precision-recall curves."
      ],
      "metadata": {
        "id": "ZWYl3E8QRvuF"
      }
    },
    {
      "cell_type": "markdown",
      "source": [
        "## About the Dataset\n",
        "Available for download [here](https://github.com/jrgreen7/SYSC4906/releases/download/Assignment3/SYSC4415W23_A3_dataset.zip). Each data sample corresponds to a 7.5-s smartphone sensor signal resampled at 100 Hz. Over 4000 features were extracted from the samples using the time-series feature extraction library `tsfresh`.\n",
        "\n",
        "The `train` and `test` folders contain 1621 and 287 samples, respectively. Each sample was assigned an integer ID randomly. The folders contain:\n",
        "1. A subfolder named `signals` which contains processed signals in CSV format. Each file follows the naming convention `<sample_id>.csv` and contains the time-series data for 9 signals: g-force *gF*, acceleration *a*, and displacement *w* along the *x*-, *y*-, and *z*-axes.\n",
        "2. A subfolder named `images` which contains images of 6 plotted sensor signals (g-force and accelerometer signals along each dimension). Each file is a 255$\\times$255-px image named `<sample_id>.png`. The images enable the use of 2-D CNNs and can be augmented. The colors are consistent from one image to the next (e.g., yellow represents g-force along the *x*-axis in all images).\n",
        "3. A file named `extracted_features.csv` which contains >4000 features for each sample. Each row corresponds to the features extracted for a sample. Some values may be missing, not all features are useful, and using too many features is computationally inefficient (i.e., preprocessing and feature selection need to be performed).\n",
        "4. A file named `labels.csv` which contains two columns, the first being the sample ID, the second being the label (training data only, i.e., the test data is unlabeled):\n",
        "  - Index for slow/normal walk: 0\n",
        "  - Index for fast walk: 1\n",
        "  - Index for stair ascent: 2\n",
        "  - Index for stair descent: 3\n",
        "  - Index for jumping jacks: 4"
      ],
      "metadata": {
        "id": "tE-BYe89D21h"
      }
    },
    {
      "cell_type": "markdown",
      "source": [
        "Get the dataset:"
      ],
      "metadata": {
        "id": "5WSu24vhtYyR"
      }
    },
    {
      "cell_type": "code",
      "source": [
        "!rm -rf SYSC4415W23_A3_dataset SYSC4415W23_A3_dataset.zip \n",
        "!wget https://github.com/jrgreen7/SYSC4906/releases/download/Assignment3/SYSC4415W23_A3_dataset.zip && unzip SYSC4415W23_A3_dataset.zip"
      ],
      "metadata": {
        "id": "iub8HWRea2k2"
      },
      "execution_count": null,
      "outputs": []
    },
    {
      "cell_type": "markdown",
      "source": [
        "Install dependencies and import libraries:"
      ],
      "metadata": {
        "id": "0UZqY521aUL_"
      }
    },
    {
      "cell_type": "code",
      "source": [
        "!pip install seaborn # For visually enhancing confusion matrices\n",
        "import matplotlib.pyplot as plt\n",
        "import numpy as np\n",
        "import pandas as pd\n",
        "import seaborn as sns\n",
        "from sklearn.ensemble import ExtraTreesClassifier, RandomForestClassifier, VotingClassifier\n",
        "from sklearn.feature_selection import f_classif, SelectKBest\n",
        "from sklearn.metrics import average_precision_score, confusion_matrix, precision_recall_curve\n",
        "from sklearn.model_selection import cross_val_score, train_test_split, GridSearchCV, RandomizedSearchCV\n",
        "from sklearn.preprocessing import MinMaxScaler\n",
        "from sklearn.svm import SVC\n",
        "from xgboost import XGBClassifier\n",
        "from xgboost.core import XGBoostError"
      ],
      "metadata": {
        "id": "EvmqVLz-aTnQ"
      },
      "execution_count": null,
      "outputs": []
    },
    {
      "cell_type": "markdown",
      "source": [
        "## Preprocessing and Feature Selection\n",
        "Preprocessing and feature selection were done before training the models: first, missing values were dropped, and then the features were normalized using `MinMaxScaler`. Afterward, the top 2000 features were selected for training and prediction using `SelectKBest` with the ANOVA *F*-value (`f_classif`) as the scoring function. These steps reduce computational complexity and improve model performance."
      ],
      "metadata": {
        "id": "O6yaYIlBCqMI"
      }
    },
    {
      "cell_type": "markdown",
      "source": [
        "Load data:"
      ],
      "metadata": {
        "id": "Z1_KHdIjtlVQ"
      }
    },
    {
      "cell_type": "code",
      "source": [
        "train_features = pd.read_csv('SYSC4415W23_A3_dataset/train/extracted_features.csv')\n",
        "train_labels = pd.read_csv('SYSC4415W23_A3_dataset/train/labels.csv')\n",
        "test_features = pd.read_csv('SYSC4415W23_A3_dataset/test/extracted_features.csv')"
      ],
      "metadata": {
        "id": "edGH4Z_Jtm5v"
      },
      "execution_count": null,
      "outputs": []
    },
    {
      "cell_type": "markdown",
      "source": [
        "Preprocess and feature selection on the training data:"
      ],
      "metadata": {
        "id": "QhdbKMyWtsGQ"
      }
    },
    {
      "cell_type": "code",
      "source": [
        "df_train = pd.merge(train_features, train_labels, on='sample_id', how='outer')\n",
        "X, y = df_train.drop('label', axis=1), df_train[['label']]\n",
        "X, y = X.dropna(axis=1), y.dropna(axis=1)\n",
        "scaler = MinMaxScaler()\n",
        "X = scaler.fit_transform(X)\n",
        "selector = SelectKBest(score_func=f_classif, k=2000)\n",
        "X = selector.fit_transform(X, y.values.ravel())"
      ],
      "metadata": {
        "id": "civ4TQUgbiEN"
      },
      "execution_count": null,
      "outputs": []
    },
    {
      "cell_type": "markdown",
      "source": [
        "Preprocess and feature selection on the test data:"
      ],
      "metadata": {
        "id": "tm_BpWaKtzMJ"
      }
    },
    {
      "cell_type": "code",
      "source": [
        "X2 = test_features.dropna(axis=1)\n",
        "X2 = scaler.transform(X2)\n",
        "X_test = selector.transform(X2)"
      ],
      "metadata": {
        "id": "x_xTfjj2t1rY"
      },
      "execution_count": null,
      "outputs": []
    },
    {
      "cell_type": "markdown",
      "source": [
        "Split the training data for validation$-$a split ratio of 75% training:25% validation balances the tradeoff between having sufficient data to train the model and having sufficient data to reliably evaluate the model's performance on unseen data:"
      ],
      "metadata": {
        "id": "iOXraPYdt_YY"
      }
    },
    {
      "cell_type": "code",
      "source": [
        "X_train, X_val, y_train, y_val = train_test_split(X, y, test_size=0.25, random_state=1)"
      ],
      "metadata": {
        "id": "tTtxtqGKt_7o"
      },
      "execution_count": null,
      "outputs": []
    },
    {
      "cell_type": "markdown",
      "source": [
        "## Model Selection\n",
        "I used an *ensemble* ML approach combining four different models: Extra Trees Classifier (ETC), Random Forest Classifier (RFC), Support Vector Machine (SVM), and XGBoost Classifier (XGB). Before combining, the classifiers were trained and tuned using grid search (ETC, RFC, and SVM) or randomized search (XGB) to extract the best models. \n",
        "\n",
        "A soft-voting classifier (from `sklearn.ensemble.VotingClassifier`) was used to combine the models. The soft-voting ensemble method takes the weighted average of the predicted probabilities for each class from the individual models and chooses the class with the highest average probability as the final prediction. This approach considers the confidence levels of the individual classifiers when making a prediction, leading to a more robust and accurate overall model."
      ],
      "metadata": {
        "id": "e6zHc85yC-Qq"
      }
    },
    {
      "cell_type": "markdown",
      "source": [
        "(To save computation time if the best models were already extracted.) Instantiate models with pre-tuned hyperparameters (from previously running grid and randomized searches as below):\n",
        "```\n",
        "Best parameters for ETC: {'n_estimators': 200, 'min_samples_split': 5, 'min_samples_leaf': 1, 'max_depth': None}\n",
        "Best parameters for RFC: {'max_depth': None, 'min_samples_leaf': 1, 'min_samples_split': 2, 'n_estimators': 200}\n",
        "Best parameters for SVM: {'C': 10, 'gamma': 'scale', 'kernel': 'rbf'}\n",
        "Best parameters for XGB: {'tree_method': 'gpu_hist', 'subsample': 1, 'n_estimators': 200, 'max_depth': 6, 'learning_rate': 0.1, 'colsample_bytree': 0.5}\n",
        "```"
      ],
      "metadata": {
        "id": "_MF7ZAN9xRkY"
      }
    },
    {
      "cell_type": "code",
      "source": [
        "'''\n",
        "etc = ExtraTreesClassifier(n_estimators=200, min_samples_split=5, min_samples_leaf=1, max_depth=None)\n",
        "rfc = RandomForestClassifier(max_depth=None, min_samples_leaf=1, min_samples_split=2, n_estimators=200)\n",
        "svm = SVC(C=10, gamma='scale', kernel='rbf', probability=True)\n",
        "xgb = XGBClassifier(subsample=1, n_estimators=200, max_depth=6, learning_rate=0.1, colsample_bytree=0.5, tree_method='gpu_hist')\n",
        "'''"
      ],
      "metadata": {
        "id": "oP30HZ9pxSHg"
      },
      "execution_count": null,
      "outputs": []
    },
    {
      "cell_type": "markdown",
      "source": [
        "Define model hyperparameter grids:"
      ],
      "metadata": {
        "id": "7mvzVgW2uUAK"
      }
    },
    {
      "cell_type": "code",
      "source": [
        "# Train on CPU\n",
        "etc_params = {'n_estimators': [50, 100, 200], 'max_depth': [None, 10, 20], 'min_samples_split': [2, 5], 'min_samples_leaf': [1, 2]}\n",
        "rfc_params = {'max_depth': [None, 10, 20], 'min_samples_leaf': [1, 2], 'min_samples_split': [2, 5], 'n_estimators': [50, 100, 200]}\n",
        "svm_params = {'C': [0.1, 1, 10], 'kernel': ['linear', 'rbf'], 'gamma': ['scale', 'auto']}\n",
        "\n",
        "# Train on GPU\n",
        "xgb_params = {'subsample': [0.5, 0.8, 1], 'n_estimators': [50, 100, 200], 'max_depth': [3, 6, 9], 'learning_rate': [0.01, 0.1, 0.2], 'colsample_bytree': [0.5, 0.8, 1], 'tree_method': ['gpu_hist']}"
      ],
      "metadata": {
        "id": "UiM7jjd8uUhA"
      },
      "execution_count": null,
      "outputs": []
    },
    {
      "cell_type": "markdown",
      "source": [
        "Create search instances:"
      ],
      "metadata": {
        "id": "wl_ICwDxuVGZ"
      }
    },
    {
      "cell_type": "code",
      "source": [
        "etc_search = GridSearchCV(ExtraTreesClassifier(), param_grid=etc_params, cv=5, scoring='accuracy', n_jobs=-1)\n",
        "rfc_search = GridSearchCV(RandomForestClassifier(), param_grid=rfc_params, cv=5, scoring='accuracy', n_jobs=-1)\n",
        "svm_search = GridSearchCV(SVC(probability=True), param_grid=svm_params, cv=5, scoring='accuracy', n_jobs=-1)\n",
        "xgb_search = RandomizedSearchCV(XGBClassifier(use_label_encoder=False, eval_metric='mlogloss'), param_distributions=xgb_params, n_iter=50, cv=5, scoring='accuracy', n_jobs=-1, random_state=1)"
      ],
      "metadata": {
        "id": "T7baoAvHuVfA"
      },
      "execution_count": null,
      "outputs": []
    },
    {
      "cell_type": "markdown",
      "source": [
        "Fit the search instances on the training data:"
      ],
      "metadata": {
        "id": "SjekWrLMuV3J"
      }
    },
    {
      "cell_type": "code",
      "source": [
        "etc_search.fit(X_train, y_train.values.ravel())\n",
        "rfc_search.fit(X_train, y_train.values.ravel())\n",
        "svm_search.fit(X_train, y_train.values.ravel())\n",
        "try:\n",
        "    xgb_search.fit(X_train, y_train.values.ravel())\n",
        "except XGBoostError as e:\n",
        "    print('Error occurred while training XGBoost on GPU. Falling back to CPU.')\n",
        "    xgb_params['tree_method'] = ['auto']\n",
        "    xgb_search = RandomizedSearchCV(XGBClassifier(use_label_encoder=False, eval_metric='mlogloss'), param_distributions=xgb_params, n_iter=50, cv=5, scoring='accuracy', n_jobs=-1, random_state=1)\n",
        "    xgb_search.fit(X_train, y_train.values.ravel())"
      ],
      "metadata": {
        "id": "BZt3AyLHuWQw"
      },
      "execution_count": null,
      "outputs": []
    },
    {
      "cell_type": "markdown",
      "source": [
        "Print the best hyperparameters:"
      ],
      "metadata": {
        "id": "U_mqC2QvuWv4"
      }
    },
    {
      "cell_type": "code",
      "source": [
        "print('Best parameters for ETC:', etc_search.best_params_)\n",
        "print('Best parameters for RFC:', rfc_search.best_params_)\n",
        "print('Best parameters for SVM:', svm_search.best_params_)\n",
        "print('Best parameters for XGB:', xgb_search.best_params_)"
      ],
      "metadata": {
        "id": "YIr1yopPuXRA",
        "colab": {
          "base_uri": "https://localhost:8080/"
        },
        "outputId": "fc158c58-b6c6-4876-ba51-9b2b4fe4cd9b"
      },
      "execution_count": null,
      "outputs": [
        {
          "output_type": "stream",
          "name": "stdout",
          "text": [
            "Best parameters for ETC: {'max_depth': None, 'min_samples_leaf': 1, 'min_samples_split': 5, 'n_estimators': 200}\n",
            "Best parameters for RFC: {'max_depth': None, 'min_samples_leaf': 1, 'min_samples_split': 2, 'n_estimators': 200}\n",
            "Best parameters for SVM: {'C': 10, 'gamma': 'scale', 'kernel': 'rbf'}\n",
            "Best parameters for XGB: {'tree_method': 'gpu_hist', 'subsample': 1, 'n_estimators': 200, 'max_depth': 6, 'learning_rate': 0.1, 'colsample_bytree': 0.5}\n"
          ]
        }
      ]
    },
    {
      "cell_type": "markdown",
      "source": [
        "Extract the best models:"
      ],
      "metadata": {
        "id": "AdPIYq2IuXtw"
      }
    },
    {
      "cell_type": "code",
      "source": [
        "etc = etc_search.best_estimator_\n",
        "rfc = rfc_search.best_estimator_\n",
        "svm = svm_search.best_estimator_\n",
        "xgb = xgb_search.best_estimator_"
      ],
      "metadata": {
        "id": "Uqb-ydcJuYGp"
      },
      "execution_count": null,
      "outputs": []
    },
    {
      "cell_type": "markdown",
      "source": [
        "Combine models using an ensemble technique:"
      ],
      "metadata": {
        "id": "qd5E7B25vW-g"
      }
    },
    {
      "cell_type": "code",
      "source": [
        "models = [('etc', etc), ('rfc', rfc), ('svm', svm), ('xgb', xgb)]\n",
        "ensemble = VotingClassifier(estimators=models, voting='soft')"
      ],
      "metadata": {
        "id": "MRIF1KkBvXaR"
      },
      "execution_count": null,
      "outputs": []
    },
    {
      "cell_type": "markdown",
      "source": [
        "## Blind Prediction"
      ],
      "metadata": {
        "id": "bOKw2Lekg3kK"
      }
    },
    {
      "cell_type": "markdown",
      "source": [
        "Train the ensemble model:"
      ],
      "metadata": {
        "id": "C757o1SVvXvo"
      }
    },
    {
      "cell_type": "code",
      "source": [
        "ensemble.fit(X_train, y_train.values.ravel())"
      ],
      "metadata": {
        "id": "DVsjSRgQvYHi",
        "colab": {
          "base_uri": "https://localhost:8080/",
          "height": 145
        },
        "outputId": "4da0d024-c379-447a-f629-7a06f07b3891"
      },
      "execution_count": null,
      "outputs": [
        {
          "output_type": "stream",
          "name": "stderr",
          "text": [
            "/usr/local/lib/python3.10/dist-packages/xgboost/sklearn.py:1395: UserWarning: `use_label_encoder` is deprecated in 1.7.0.\n",
            "  warnings.warn(\"`use_label_encoder` is deprecated in 1.7.0.\")\n"
          ]
        },
        {
          "output_type": "execute_result",
          "data": {
            "text/plain": [
              "VotingClassifier(estimators=[('etc',\n",
              "                              ExtraTreesClassifier(min_samples_split=5,\n",
              "                                                   n_estimators=200)),\n",
              "                             ('rfc', RandomForestClassifier(n_estimators=200)),\n",
              "                             ('svm', SVC(C=10, probability=True)),\n",
              "                             ('xgb',\n",
              "                              XGBClassifier(base_score=None, booster=None,\n",
              "                                            callbacks=None,\n",
              "                                            colsample_bylevel=None,\n",
              "                                            colsample_bynode=None,\n",
              "                                            colsample_bytree=0.5,\n",
              "                                            early_stopping_rounds=None,\n",
              "                                            enable_categ...\n",
              "                                            importance_type=None,\n",
              "                                            interaction_constraints=None,\n",
              "                                            learning_rate=0.1, max_bin=None,\n",
              "                                            max_cat_threshold=None,\n",
              "                                            max_cat_to_onehot=None,\n",
              "                                            max_delta_step=None, max_depth=6,\n",
              "                                            max_leaves=None,\n",
              "                                            min_child_weight=None, missing=nan,\n",
              "                                            monotone_constraints=None,\n",
              "                                            n_estimators=200, n_jobs=None,\n",
              "                                            num_parallel_tree=None,\n",
              "                                            objective='multi:softprob',\n",
              "                                            predictor=None, ...))],\n",
              "                 voting='soft')"
            ],
            "text/html": [
              "<style>#sk-container-id-1 {color: black;background-color: white;}#sk-container-id-1 pre{padding: 0;}#sk-container-id-1 div.sk-toggleable {background-color: white;}#sk-container-id-1 label.sk-toggleable__label {cursor: pointer;display: block;width: 100%;margin-bottom: 0;padding: 0.3em;box-sizing: border-box;text-align: center;}#sk-container-id-1 label.sk-toggleable__label-arrow:before {content: \"▸\";float: left;margin-right: 0.25em;color: #696969;}#sk-container-id-1 label.sk-toggleable__label-arrow:hover:before {color: black;}#sk-container-id-1 div.sk-estimator:hover label.sk-toggleable__label-arrow:before {color: black;}#sk-container-id-1 div.sk-toggleable__content {max-height: 0;max-width: 0;overflow: hidden;text-align: left;background-color: #f0f8ff;}#sk-container-id-1 div.sk-toggleable__content pre {margin: 0.2em;color: black;border-radius: 0.25em;background-color: #f0f8ff;}#sk-container-id-1 input.sk-toggleable__control:checked~div.sk-toggleable__content {max-height: 200px;max-width: 100%;overflow: auto;}#sk-container-id-1 input.sk-toggleable__control:checked~label.sk-toggleable__label-arrow:before {content: \"▾\";}#sk-container-id-1 div.sk-estimator input.sk-toggleable__control:checked~label.sk-toggleable__label {background-color: #d4ebff;}#sk-container-id-1 div.sk-label input.sk-toggleable__control:checked~label.sk-toggleable__label {background-color: #d4ebff;}#sk-container-id-1 input.sk-hidden--visually {border: 0;clip: rect(1px 1px 1px 1px);clip: rect(1px, 1px, 1px, 1px);height: 1px;margin: -1px;overflow: hidden;padding: 0;position: absolute;width: 1px;}#sk-container-id-1 div.sk-estimator {font-family: monospace;background-color: #f0f8ff;border: 1px dotted black;border-radius: 0.25em;box-sizing: border-box;margin-bottom: 0.5em;}#sk-container-id-1 div.sk-estimator:hover {background-color: #d4ebff;}#sk-container-id-1 div.sk-parallel-item::after {content: \"\";width: 100%;border-bottom: 1px solid gray;flex-grow: 1;}#sk-container-id-1 div.sk-label:hover label.sk-toggleable__label {background-color: #d4ebff;}#sk-container-id-1 div.sk-serial::before {content: \"\";position: absolute;border-left: 1px solid gray;box-sizing: border-box;top: 0;bottom: 0;left: 50%;z-index: 0;}#sk-container-id-1 div.sk-serial {display: flex;flex-direction: column;align-items: center;background-color: white;padding-right: 0.2em;padding-left: 0.2em;position: relative;}#sk-container-id-1 div.sk-item {position: relative;z-index: 1;}#sk-container-id-1 div.sk-parallel {display: flex;align-items: stretch;justify-content: center;background-color: white;position: relative;}#sk-container-id-1 div.sk-item::before, #sk-container-id-1 div.sk-parallel-item::before {content: \"\";position: absolute;border-left: 1px solid gray;box-sizing: border-box;top: 0;bottom: 0;left: 50%;z-index: -1;}#sk-container-id-1 div.sk-parallel-item {display: flex;flex-direction: column;z-index: 1;position: relative;background-color: white;}#sk-container-id-1 div.sk-parallel-item:first-child::after {align-self: flex-end;width: 50%;}#sk-container-id-1 div.sk-parallel-item:last-child::after {align-self: flex-start;width: 50%;}#sk-container-id-1 div.sk-parallel-item:only-child::after {width: 0;}#sk-container-id-1 div.sk-dashed-wrapped {border: 1px dashed gray;margin: 0 0.4em 0.5em 0.4em;box-sizing: border-box;padding-bottom: 0.4em;background-color: white;}#sk-container-id-1 div.sk-label label {font-family: monospace;font-weight: bold;display: inline-block;line-height: 1.2em;}#sk-container-id-1 div.sk-label-container {text-align: center;}#sk-container-id-1 div.sk-container {/* jupyter's `normalize.less` sets `[hidden] { display: none; }` but bootstrap.min.css set `[hidden] { display: none !important; }` so we also need the `!important` here to be able to override the default hidden behavior on the sphinx rendered scikit-learn.org. See: https://github.com/scikit-learn/scikit-learn/issues/21755 */display: inline-block !important;position: relative;}#sk-container-id-1 div.sk-text-repr-fallback {display: none;}</style><div id=\"sk-container-id-1\" class=\"sk-top-container\"><div class=\"sk-text-repr-fallback\"><pre>VotingClassifier(estimators=[(&#x27;etc&#x27;,\n",
              "                              ExtraTreesClassifier(min_samples_split=5,\n",
              "                                                   n_estimators=200)),\n",
              "                             (&#x27;rfc&#x27;, RandomForestClassifier(n_estimators=200)),\n",
              "                             (&#x27;svm&#x27;, SVC(C=10, probability=True)),\n",
              "                             (&#x27;xgb&#x27;,\n",
              "                              XGBClassifier(base_score=None, booster=None,\n",
              "                                            callbacks=None,\n",
              "                                            colsample_bylevel=None,\n",
              "                                            colsample_bynode=None,\n",
              "                                            colsample_bytree=0.5,\n",
              "                                            early_stopping_rounds=None,\n",
              "                                            enable_categ...\n",
              "                                            importance_type=None,\n",
              "                                            interaction_constraints=None,\n",
              "                                            learning_rate=0.1, max_bin=None,\n",
              "                                            max_cat_threshold=None,\n",
              "                                            max_cat_to_onehot=None,\n",
              "                                            max_delta_step=None, max_depth=6,\n",
              "                                            max_leaves=None,\n",
              "                                            min_child_weight=None, missing=nan,\n",
              "                                            monotone_constraints=None,\n",
              "                                            n_estimators=200, n_jobs=None,\n",
              "                                            num_parallel_tree=None,\n",
              "                                            objective=&#x27;multi:softprob&#x27;,\n",
              "                                            predictor=None, ...))],\n",
              "                 voting=&#x27;soft&#x27;)</pre><b>In a Jupyter environment, please rerun this cell to show the HTML representation or trust the notebook. <br />On GitHub, the HTML representation is unable to render, please try loading this page with nbviewer.org.</b></div><div class=\"sk-container\" hidden><div class=\"sk-item sk-dashed-wrapped\"><div class=\"sk-label-container\"><div class=\"sk-label sk-toggleable\"><input class=\"sk-toggleable__control sk-hidden--visually\" id=\"sk-estimator-id-1\" type=\"checkbox\" ><label for=\"sk-estimator-id-1\" class=\"sk-toggleable__label sk-toggleable__label-arrow\">VotingClassifier</label><div class=\"sk-toggleable__content\"><pre>VotingClassifier(estimators=[(&#x27;etc&#x27;,\n",
              "                              ExtraTreesClassifier(min_samples_split=5,\n",
              "                                                   n_estimators=200)),\n",
              "                             (&#x27;rfc&#x27;, RandomForestClassifier(n_estimators=200)),\n",
              "                             (&#x27;svm&#x27;, SVC(C=10, probability=True)),\n",
              "                             (&#x27;xgb&#x27;,\n",
              "                              XGBClassifier(base_score=None, booster=None,\n",
              "                                            callbacks=None,\n",
              "                                            colsample_bylevel=None,\n",
              "                                            colsample_bynode=None,\n",
              "                                            colsample_bytree=0.5,\n",
              "                                            early_stopping_rounds=None,\n",
              "                                            enable_categ...\n",
              "                                            importance_type=None,\n",
              "                                            interaction_constraints=None,\n",
              "                                            learning_rate=0.1, max_bin=None,\n",
              "                                            max_cat_threshold=None,\n",
              "                                            max_cat_to_onehot=None,\n",
              "                                            max_delta_step=None, max_depth=6,\n",
              "                                            max_leaves=None,\n",
              "                                            min_child_weight=None, missing=nan,\n",
              "                                            monotone_constraints=None,\n",
              "                                            n_estimators=200, n_jobs=None,\n",
              "                                            num_parallel_tree=None,\n",
              "                                            objective=&#x27;multi:softprob&#x27;,\n",
              "                                            predictor=None, ...))],\n",
              "                 voting=&#x27;soft&#x27;)</pre></div></div></div><div class=\"sk-parallel\"><div class=\"sk-parallel-item\"><div class=\"sk-item\"><div class=\"sk-label-container\"><div class=\"sk-label sk-toggleable\"><label>etc</label></div></div><div class=\"sk-serial\"><div class=\"sk-item\"><div class=\"sk-estimator sk-toggleable\"><input class=\"sk-toggleable__control sk-hidden--visually\" id=\"sk-estimator-id-2\" type=\"checkbox\" ><label for=\"sk-estimator-id-2\" class=\"sk-toggleable__label sk-toggleable__label-arrow\">ExtraTreesClassifier</label><div class=\"sk-toggleable__content\"><pre>ExtraTreesClassifier(min_samples_split=5, n_estimators=200)</pre></div></div></div></div></div></div><div class=\"sk-parallel-item\"><div class=\"sk-item\"><div class=\"sk-label-container\"><div class=\"sk-label sk-toggleable\"><label>rfc</label></div></div><div class=\"sk-serial\"><div class=\"sk-item\"><div class=\"sk-estimator sk-toggleable\"><input class=\"sk-toggleable__control sk-hidden--visually\" id=\"sk-estimator-id-3\" type=\"checkbox\" ><label for=\"sk-estimator-id-3\" class=\"sk-toggleable__label sk-toggleable__label-arrow\">RandomForestClassifier</label><div class=\"sk-toggleable__content\"><pre>RandomForestClassifier(n_estimators=200)</pre></div></div></div></div></div></div><div class=\"sk-parallel-item\"><div class=\"sk-item\"><div class=\"sk-label-container\"><div class=\"sk-label sk-toggleable\"><label>svm</label></div></div><div class=\"sk-serial\"><div class=\"sk-item\"><div class=\"sk-estimator sk-toggleable\"><input class=\"sk-toggleable__control sk-hidden--visually\" id=\"sk-estimator-id-4\" type=\"checkbox\" ><label for=\"sk-estimator-id-4\" class=\"sk-toggleable__label sk-toggleable__label-arrow\">SVC</label><div class=\"sk-toggleable__content\"><pre>SVC(C=10, probability=True)</pre></div></div></div></div></div></div><div class=\"sk-parallel-item\"><div class=\"sk-item\"><div class=\"sk-label-container\"><div class=\"sk-label sk-toggleable\"><label>xgb</label></div></div><div class=\"sk-serial\"><div class=\"sk-item\"><div class=\"sk-estimator sk-toggleable\"><input class=\"sk-toggleable__control sk-hidden--visually\" id=\"sk-estimator-id-5\" type=\"checkbox\" ><label for=\"sk-estimator-id-5\" class=\"sk-toggleable__label sk-toggleable__label-arrow\">XGBClassifier</label><div class=\"sk-toggleable__content\"><pre>XGBClassifier(base_score=None, booster=None, callbacks=None,\n",
              "              colsample_bylevel=None, colsample_bynode=None,\n",
              "              colsample_bytree=0.5, early_stopping_rounds=None,\n",
              "              enable_categorical=False, eval_metric=&#x27;mlogloss&#x27;,\n",
              "              feature_types=None, gamma=None, gpu_id=None, grow_policy=None,\n",
              "              importance_type=None, interaction_constraints=None,\n",
              "              learning_rate=0.1, max_bin=None, max_cat_threshold=None,\n",
              "              max_cat_to_onehot=None, max_delta_step=None, max_depth=6,\n",
              "              max_leaves=None, min_child_weight=None, missing=nan,\n",
              "              monotone_constraints=None, n_estimators=200, n_jobs=None,\n",
              "              num_parallel_tree=None, objective=&#x27;multi:softprob&#x27;,\n",
              "              predictor=None, ...)</pre></div></div></div></div></div></div></div></div></div></div>"
            ]
          },
          "metadata": {},
          "execution_count": 14
        }
      ]
    },
    {
      "cell_type": "markdown",
      "source": [
        "Make predictions on the test set:"
      ],
      "metadata": {
        "id": "SymDrWzLvYba"
      }
    },
    {
      "cell_type": "code",
      "source": [
        "predictions = ensemble.predict(X_test)"
      ],
      "metadata": {
        "id": "R7d_fJc5vYyJ"
      },
      "execution_count": null,
      "outputs": []
    },
    {
      "cell_type": "markdown",
      "source": [
        "Create a new DataFrame with `sample_id` and `label` columns, and save to a CSV file:"
      ],
      "metadata": {
        "id": "jMdzjYNJvZSI"
      }
    },
    {
      "cell_type": "code",
      "source": [
        "output = pd.DataFrame({'sample_id': test_features['sample_id'], 'label': predictions})\n",
        "output.to_csv('predictions.csv', index=False)"
      ],
      "metadata": {
        "id": "0lk68X2xvZoQ"
      },
      "execution_count": null,
      "outputs": []
    },
    {
      "cell_type": "markdown",
      "source": [
        "## Performance Estimation"
      ],
      "metadata": {
        "id": "IveH_xbvGUpz"
      }
    },
    {
      "cell_type": "markdown",
      "source": [
        "Evaluate ensemble performance using 5-fold cross-validation:"
      ],
      "metadata": {
        "id": "Vez8c9OkHUfj"
      }
    },
    {
      "cell_type": "code",
      "source": [
        "cv_scores = cross_val_score(ensemble, X_train, y_train.values.ravel(), cv=5, scoring='accuracy')\n",
        "predicted_accuracy = np.mean(cv_scores)\n",
        "predicted_accuracy_std = np.std(cv_scores)"
      ],
      "metadata": {
        "id": "OXOg9Z8wv09B"
      },
      "execution_count": null,
      "outputs": []
    },
    {
      "cell_type": "markdown",
      "source": [
        "Save the predicted performance to a CSV file:"
      ],
      "metadata": {
        "id": "nbUuYt6tv1RY"
      }
    },
    {
      "cell_type": "code",
      "source": [
        "predicted_performance = pd.DataFrame({'predicted_accuracy': [predicted_accuracy], 'predicted_accuracy_std': [predicted_accuracy_std]})\n",
        "predicted_performance.to_csv('predicted_performance.csv', index=False)\n",
        "print(f'Predicted Accuracy: {predicted_accuracy:.4f}')\n",
        "print(f'Predicted Accuracy Standard Deviation: {predicted_accuracy_std:.4f}')"
      ],
      "metadata": {
        "id": "rYZyx5K1v1ow",
        "colab": {
          "base_uri": "https://localhost:8080/"
        },
        "outputId": "316ae770-a98e-4657-e903-6587e0017eee"
      },
      "execution_count": null,
      "outputs": [
        {
          "output_type": "stream",
          "name": "stdout",
          "text": [
            "Predicted Accuracy: 0.7835\n",
            "Predicted Accuracy Standard Deviation: 0.0256\n"
          ]
        }
      ]
    },
    {
      "cell_type": "markdown",
      "source": [
        "📝 $\\boxed{\\mathrm{Predicted \\ ensemble \\ accuracy} = (78.35 \\pm 2.56)\\%}$"
      ],
      "metadata": {
        "id": "0A6cnvhpHr3z"
      }
    },
    {
      "cell_type": "markdown",
      "source": [
        "## Performance Visualization"
      ],
      "metadata": {
        "id": "tlJDuvvu5qgI"
      }
    },
    {
      "cell_type": "markdown",
      "source": [
        "### Confusion Matrix"
      ],
      "metadata": {
        "id": "76CcR3zUGgAj"
      }
    },
    {
      "cell_type": "markdown",
      "source": [
        "Predict labels for the validation set:"
      ],
      "metadata": {
        "id": "CftSxM5Cv16_"
      }
    },
    {
      "cell_type": "code",
      "source": [
        "y_pred = ensemble.predict(X_val)"
      ],
      "metadata": {
        "id": "gfqyaackv2SU"
      },
      "execution_count": null,
      "outputs": []
    },
    {
      "cell_type": "markdown",
      "source": [
        "Compute the confusion matrix:"
      ],
      "metadata": {
        "id": "Xoh6LCitwUZX"
      }
    },
    {
      "cell_type": "code",
      "source": [
        "conf_mat = confusion_matrix(y_val, y_pred)"
      ],
      "metadata": {
        "id": "AOypWW81wUuw"
      },
      "execution_count": null,
      "outputs": []
    },
    {
      "cell_type": "markdown",
      "source": [
        "Plot the confusion matrix as a heatmap:"
      ],
      "metadata": {
        "id": "dDYMMwbDwVDr"
      }
    },
    {
      "cell_type": "code",
      "source": [
        "plt.figure(figsize=(8, 6))\n",
        "sns.heatmap(conf_mat, annot=True, fmt='d', cmap='YlGnBu', xticklabels=np.unique(y_val), yticklabels=np.unique(y_val))\n",
        "plt.xlabel('Predicted')\n",
        "plt.ylabel('True')\n",
        "plt.title('Confusion Matrix')\n",
        "plt.savefig('confusion_matrix.png')\n",
        "plt.show()"
      ],
      "metadata": {
        "id": "Cue6nPQDwVkp",
        "colab": {
          "base_uri": "https://localhost:8080/",
          "height": 564
        },
        "outputId": "1a43d57f-dcea-4776-d672-f81c08cc3f98"
      },
      "execution_count": null,
      "outputs": [
        {
          "output_type": "display_data",
          "data": {
            "text/plain": [
              "<Figure size 800x600 with 2 Axes>"
            ],
            "image/png": "[encoded data removed]"
          },
          "metadata": {}
        }
      ]
    },
    {
      "cell_type": "markdown",
      "source": [
        "📝 The confusion matrix visualizes the performance of the ensemble classifier on the validation dataset. Overall, the classifier performs well on most classes, with the highest number of correct predictions on classes 1 and 4. The classifier has some difficulty distinguishing between classes 2 and 3, as there are a considerable number of misclassifications between these two classes. The classifier also misclassifies some instances of class 0 as class 2. However, the performance is still reasonably good, and the classifier should provide useful predictions on the test dataset."
      ],
      "metadata": {
        "id": "KeVa9cAjGk0a"
      }
    },
    {
      "cell_type": "markdown",
      "source": [
        "### Precision-Recall Curves"
      ],
      "metadata": {
        "id": "Y_85outwGmSB"
      }
    },
    {
      "cell_type": "markdown",
      "source": [
        "Compute predicted probabilities for each class:"
      ],
      "metadata": {
        "id": "nhuMzqESwV-I"
      }
    },
    {
      "cell_type": "code",
      "source": [
        "y_probs = ensemble.predict_proba(X_val)"
      ],
      "metadata": {
        "id": "5aSxoYs4wWUg"
      },
      "execution_count": null,
      "outputs": []
    },
    {
      "cell_type": "markdown",
      "source": [
        "Plot precision-recall curves:"
      ],
      "metadata": {
        "id": "mkFiC1_4w4jg"
      }
    },
    {
      "cell_type": "code",
      "source": [
        "# Define line styles and colors for better visualization\n",
        "line_styles = ['-', '--', '-.', ':', '-']\n",
        "colors = ['blue', 'green', 'red', 'purple', 'orange']\n",
        "\n",
        "plt.figure(figsize=(8, 8))\n",
        "\n",
        "# Iterate through each class and compute precision-recall curves\n",
        "for idx, label in enumerate(np.unique(y_val)):\n",
        "    precision, recall, _ = precision_recall_curve(y_val == label, y_probs[:, idx])\n",
        "    plt.plot(recall, precision, linestyle=line_styles[idx % len(line_styles)], color=colors[idx % len(colors)], label=f'Class {label}')\n",
        "\n",
        "plt.xlabel('Recall')\n",
        "plt.ylabel('Precision')\n",
        "plt.title('Precision-Recall Curves')\n",
        "plt.legend(loc='best')\n",
        "plt.savefig('precision_recall_curves.png')\n",
        "plt.show()"
      ],
      "metadata": {
        "id": "dPlWRddow47h",
        "colab": {
          "base_uri": "https://localhost:8080/",
          "height": 718
        },
        "outputId": "be799f92-7398-4a7c-e031-c1397591d6c5"
      },
      "execution_count": null,
      "outputs": [
        {
          "output_type": "display_data",
          "data": {
            "text/plain": [
              "<Figure size 800x800 with 1 Axes>"
            ],
            "image/png": "[encoded data removed]"
          },
          "metadata": {}
        }
      ]
    },
    {
      "cell_type": "markdown",
      "source": [
        "📝 The precision-recall curves display the tradeoff between precision and recall for each class in a 1-vs.-rest setting. On the whole, the ensemble model is highly effective at predicting class 1 and class 4 with high precision and recall values. It shows moderate performance for class 0, while struggling to accurately predict class 2 and class 3, which may be due to their similarities with other classes or insufficient distinctive features in the dataset."
      ],
      "metadata": {
        "id": "MAPLqOM5GtQi"
      }
    }
  ]
}